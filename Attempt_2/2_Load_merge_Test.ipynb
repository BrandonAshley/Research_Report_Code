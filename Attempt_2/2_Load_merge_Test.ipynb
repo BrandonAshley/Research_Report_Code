{
 "cells": [
  {
   "cell_type": "code",
   "execution_count": null,
   "id": "5c60a0c2-72fb-4f47-9a95-f0c4a0e5f3aa",
   "metadata": {},
   "outputs": [],
   "source": [
    "#2   ALL clean data is merged into a dataframe known as the testing dataset"
   ]
  },
  {
   "cell_type": "code",
   "execution_count": 1,
   "id": "0b055921-7df4-4602-9817-68dc972926a8",
   "metadata": {},
   "outputs": [],
   "source": [
    "import numpy as np\n",
    "import pandas as pd"
   ]
  },
  {
   "cell_type": "code",
   "execution_count": 2,
   "id": "aa511a2c-0e61-4b2d-9046-72dd51da0a2f",
   "metadata": {},
   "outputs": [],
   "source": [
    "ukt=pd.read_parquet(r\"C:\\Users\\brand\\UNISA_Honour_Fake_News_Program\\New_Datasets_For_Final\\945z9xkc8d-1\\Fake News Dataset\\Fake News Dataset\\ukt_test.parquet\")\n",
    "ISOT=pd.read_parquet(r\"C:\\Users\\brand\\UNISA_Honour_Fake_News_Program\\New_Datasets_For_Final\\945z9xkc8d-1\\Fake News Dataset\\Fake News Dataset\\ISOT_test.parquet\")\n",
    "jru=pd.read_parquet(r\"C:\\Users\\brand\\UNISA_Honour_Fake_News_Program\\New_Datasets_For_Final\\945z9xkc8d-1\\Fake News Dataset\\Fake News Dataset\\jru_test.parquet\")\n",
    "mc=pd.read_parquet(r\"C:\\Users\\brand\\UNISA_Honour_Fake_News_Program\\New_Datasets_For_Final\\945z9xkc8d-1\\Fake News Dataset\\Fake News Dataset\\mc_test.parquet\")\n"
   ]
  },
  {
   "cell_type": "code",
   "execution_count": 3,
   "id": "dcf44086-e93c-4504-82a0-5c651bf8efc1",
   "metadata": {},
   "outputs": [],
   "source": [
    "df = pd.concat([ukt,ISOT,jru,mc], ignore_index=True)\n",
    "df=df.reset_index(drop=True)"
   ]
  },
  {
   "cell_type": "code",
   "execution_count": 4,
   "id": "481474ba-2760-4bc9-9e6f-8230fc8ad7b0",
   "metadata": {},
   "outputs": [
    {
     "data": {
      "text/html": [
       "<div>\n",
       "<style scoped>\n",
       "    .dataframe tbody tr th:only-of-type {\n",
       "        vertical-align: middle;\n",
       "    }\n",
       "\n",
       "    .dataframe tbody tr th {\n",
       "        vertical-align: top;\n",
       "    }\n",
       "\n",
       "    .dataframe thead th {\n",
       "        text-align: right;\n",
       "    }\n",
       "</style>\n",
       "<table border=\"1\" class=\"dataframe\">\n",
       "  <thead>\n",
       "    <tr style=\"text-align: right;\">\n",
       "      <th></th>\n",
       "      <th>text</th>\n",
       "      <th>label</th>\n",
       "    </tr>\n",
       "  </thead>\n",
       "  <tbody>\n",
       "  </tbody>\n",
       "</table>\n",
       "</div>"
      ],
      "text/plain": [
       "Empty DataFrame\n",
       "Columns: [text, label]\n",
       "Index: []"
      ]
     },
     "execution_count": 4,
     "metadata": {},
     "output_type": "execute_result"
    }
   ],
   "source": [
    "df.drop_duplicates(subset=['text'],keep='first',inplace=True)\n",
    "df[df.duplicated(subset=['text'])]"
   ]
  },
  {
   "cell_type": "code",
   "execution_count": 5,
   "id": "44119141-7f04-4417-8a4f-65c10be9db5a",
   "metadata": {
    "tags": []
   },
   "outputs": [],
   "source": [
    "df.to_parquet(r\"C:\\Users\\brand\\UNISA_Honour_Fake_News_Program\\Dataset_Merged_BackUp\\Data_merged_test.parquet\")"
   ]
  },
  {
   "cell_type": "code",
   "execution_count": 7,
   "id": "79300b35-1cef-47d5-8675-359cf7317150",
   "metadata": {
    "tags": []
   },
   "outputs": [
    {
     "data": {
      "text/plain": [
       "(14583, 2)"
      ]
     },
     "execution_count": 7,
     "metadata": {},
     "output_type": "execute_result"
    }
   ],
   "source": [
    "df.shape"
   ]
  },
  {
   "cell_type": "code",
   "execution_count": null,
   "id": "a1752398-ab28-42fc-9ef8-15aa9d81b5f5",
   "metadata": {},
   "outputs": [],
   "source": []
  }
 ],
 "metadata": {
  "kernelspec": {
   "display_name": "Python 3 (ipykernel)",
   "language": "python",
   "name": "python3"
  },
  "language_info": {
   "codemirror_mode": {
    "name": "ipython",
    "version": 3
   },
   "file_extension": ".py",
   "mimetype": "text/x-python",
   "name": "python",
   "nbconvert_exporter": "python",
   "pygments_lexer": "ipython3",
   "version": "3.9.18"
  }
 },
 "nbformat": 4,
 "nbformat_minor": 5
}
