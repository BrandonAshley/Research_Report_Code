{
 "cells": [
  {
   "cell_type": "code",
   "execution_count": 1,
   "id": "261937bf-5056-420d-b462-a2c6d44f1461",
   "metadata": {
    "tags": []
   },
   "outputs": [],
   "source": [
    "import pandas as pd\n",
    "import seaborn as sns\n",
    "import matplotlib.pyplot as plt"
   ]
  },
  {
   "cell_type": "code",
   "execution_count": 2,
   "id": "df00f3d2-afbb-41a3-b196-296190320abf",
   "metadata": {
    "tags": []
   },
   "outputs": [],
   "source": [
    "\n",
    "df= pd.read_parquet(r\"C:\\Users\\brand\\UNISA_Honour_Fake_News_Program\\Dataset_Merged_BackUp\\ForModeling_test.parquet\")\n",
    "df.shape\n",
    "df_BOW=pd.read_parquet(r\"C:\\Users\\brand\\UNISA_Honour_Fake_News_Program\\Dataset_Merged_BackUp\\ForModeling_BagofWords_test.parquet\")\n",
    "\n",
    "df_BOW=df_BOW.sample(frac=1,random_state=42)\n"
   ]
  },
  {
   "cell_type": "code",
   "execution_count": 3,
   "id": "7f0078ce-d97e-41d1-8c8a-b28eb6d397dd",
   "metadata": {
    "tags": []
   },
   "outputs": [
    {
     "name": "stdout",
     "output_type": "stream",
     "text": [
      "<class 'pandas.core.frame.DataFrame'>\n",
      "Index: 14583 entries, 11525 to 7270\n",
      "Columns: 1013 entries, text to BOW_young\n",
      "dtypes: float64(5), int32(2), int64(1004), object(2)\n",
      "memory usage: 112.7+ MB\n"
     ]
    }
   ],
   "source": [
    "df.info()"
   ]
  },
  {
   "cell_type": "code",
   "execution_count": 4,
   "id": "75cb2e83-07a5-4efe-9800-6dcbb3e6d84f",
   "metadata": {
    "tags": []
   },
   "outputs": [
    {
     "data": {
      "text/plain": [
       "(14583, 1013)"
      ]
     },
     "execution_count": 4,
     "metadata": {},
     "output_type": "execute_result"
    }
   ],
   "source": [
    "df_new_features=df_BOW\n",
    "df_new_features.shape"
   ]
  },
  {
   "cell_type": "code",
   "execution_count": 5,
   "id": "2514b2d9-e2ef-4bc1-b743-71a0fdcde1ce",
   "metadata": {
    "tags": []
   },
   "outputs": [
    {
     "data": {
      "text/html": [
       "<div>\n",
       "<style scoped>\n",
       "    .dataframe tbody tr th:only-of-type {\n",
       "        vertical-align: middle;\n",
       "    }\n",
       "\n",
       "    .dataframe tbody tr th {\n",
       "        vertical-align: top;\n",
       "    }\n",
       "\n",
       "    .dataframe thead th {\n",
       "        text-align: right;\n",
       "    }\n",
       "</style>\n",
       "<table border=\"1\" class=\"dataframe\">\n",
       "  <thead>\n",
       "    <tr style=\"text-align: right;\">\n",
       "      <th></th>\n",
       "      <th>label</th>\n",
       "      <th>word_count</th>\n",
       "      <th>avg_sentence_length</th>\n",
       "      <th>text_punctuation_frequency</th>\n",
       "      <th>text_capitalization_frequency</th>\n",
       "      <th>text_before_character_removal</th>\n",
       "      <th>text_after_character_removal</th>\n",
       "      <th>subjectivity_text</th>\n",
       "      <th>text_sentiment</th>\n",
       "      <th>text_reading_ease</th>\n",
       "      <th>text_lexical_diversity</th>\n",
       "    </tr>\n",
       "  </thead>\n",
       "  <tbody>\n",
       "    <tr>\n",
       "      <th>count</th>\n",
       "      <td>14583.000000</td>\n",
       "      <td>14583.000000</td>\n",
       "      <td>14583.000000</td>\n",
       "      <td>14583.0</td>\n",
       "      <td>14583.0</td>\n",
       "      <td>14583.000000</td>\n",
       "      <td>14583.000000</td>\n",
       "      <td>14583.000000</td>\n",
       "      <td>14583.000000</td>\n",
       "      <td>14583.000000</td>\n",
       "      <td>14583.000000</td>\n",
       "    </tr>\n",
       "    <tr>\n",
       "      <th>mean</th>\n",
       "      <td>0.500240</td>\n",
       "      <td>310.965028</td>\n",
       "      <td>310.965028</td>\n",
       "      <td>0.0</td>\n",
       "      <td>0.0</td>\n",
       "      <td>2204.873277</td>\n",
       "      <td>2204.873277</td>\n",
       "      <td>0.376956</td>\n",
       "      <td>-0.024121</td>\n",
       "      <td>-243.967627</td>\n",
       "      <td>0.669949</td>\n",
       "    </tr>\n",
       "    <tr>\n",
       "      <th>std</th>\n",
       "      <td>0.500017</td>\n",
       "      <td>350.019227</td>\n",
       "      <td>350.019227</td>\n",
       "      <td>0.0</td>\n",
       "      <td>0.0</td>\n",
       "      <td>2459.186390</td>\n",
       "      <td>2459.186390</td>\n",
       "      <td>0.135305</td>\n",
       "      <td>0.826701</td>\n",
       "      <td>355.208558</td>\n",
       "      <td>0.098977</td>\n",
       "    </tr>\n",
       "    <tr>\n",
       "      <th>min</th>\n",
       "      <td>0.000000</td>\n",
       "      <td>1.000000</td>\n",
       "      <td>1.000000</td>\n",
       "      <td>0.0</td>\n",
       "      <td>0.0</td>\n",
       "      <td>3.000000</td>\n",
       "      <td>3.000000</td>\n",
       "      <td>0.000000</td>\n",
       "      <td>-1.000000</td>\n",
       "      <td>-12021.920000</td>\n",
       "      <td>0.191181</td>\n",
       "    </tr>\n",
       "    <tr>\n",
       "      <th>25%</th>\n",
       "      <td>0.000000</td>\n",
       "      <td>139.000000</td>\n",
       "      <td>139.000000</td>\n",
       "      <td>0.0</td>\n",
       "      <td>0.0</td>\n",
       "      <td>986.000000</td>\n",
       "      <td>986.000000</td>\n",
       "      <td>0.305300</td>\n",
       "      <td>-0.932500</td>\n",
       "      <td>-322.350000</td>\n",
       "      <td>0.608519</td>\n",
       "    </tr>\n",
       "    <tr>\n",
       "      <th>50%</th>\n",
       "      <td>1.000000</td>\n",
       "      <td>236.000000</td>\n",
       "      <td>236.000000</td>\n",
       "      <td>0.0</td>\n",
       "      <td>0.0</td>\n",
       "      <td>1679.000000</td>\n",
       "      <td>1679.000000</td>\n",
       "      <td>0.380158</td>\n",
       "      <td>0.000000</td>\n",
       "      <td>-168.070000</td>\n",
       "      <td>0.664865</td>\n",
       "    </tr>\n",
       "    <tr>\n",
       "      <th>75%</th>\n",
       "      <td>1.000000</td>\n",
       "      <td>387.000000</td>\n",
       "      <td>387.000000</td>\n",
       "      <td>0.0</td>\n",
       "      <td>0.0</td>\n",
       "      <td>2756.000000</td>\n",
       "      <td>2756.000000</td>\n",
       "      <td>0.451445</td>\n",
       "      <td>0.900100</td>\n",
       "      <td>-69.620000</td>\n",
       "      <td>0.722222</td>\n",
       "    </tr>\n",
       "    <tr>\n",
       "      <th>max</th>\n",
       "      <td>1.000000</td>\n",
       "      <td>11936.000000</td>\n",
       "      <td>11936.000000</td>\n",
       "      <td>0.0</td>\n",
       "      <td>0.0</td>\n",
       "      <td>77745.000000</td>\n",
       "      <td>77745.000000</td>\n",
       "      <td>1.000000</td>\n",
       "      <td>1.000000</td>\n",
       "      <td>121.220000</td>\n",
       "      <td>1.000000</td>\n",
       "    </tr>\n",
       "  </tbody>\n",
       "</table>\n",
       "</div>"
      ],
      "text/plain": [
       "              label    word_count  avg_sentence_length  \\\n",
       "count  14583.000000  14583.000000         14583.000000   \n",
       "mean       0.500240    310.965028           310.965028   \n",
       "std        0.500017    350.019227           350.019227   \n",
       "min        0.000000      1.000000             1.000000   \n",
       "25%        0.000000    139.000000           139.000000   \n",
       "50%        1.000000    236.000000           236.000000   \n",
       "75%        1.000000    387.000000           387.000000   \n",
       "max        1.000000  11936.000000         11936.000000   \n",
       "\n",
       "       text_punctuation_frequency  text_capitalization_frequency  \\\n",
       "count                     14583.0                        14583.0   \n",
       "mean                          0.0                            0.0   \n",
       "std                           0.0                            0.0   \n",
       "min                           0.0                            0.0   \n",
       "25%                           0.0                            0.0   \n",
       "50%                           0.0                            0.0   \n",
       "75%                           0.0                            0.0   \n",
       "max                           0.0                            0.0   \n",
       "\n",
       "       text_before_character_removal  text_after_character_removal  \\\n",
       "count                   14583.000000                  14583.000000   \n",
       "mean                     2204.873277                   2204.873277   \n",
       "std                      2459.186390                   2459.186390   \n",
       "min                         3.000000                      3.000000   \n",
       "25%                       986.000000                    986.000000   \n",
       "50%                      1679.000000                   1679.000000   \n",
       "75%                      2756.000000                   2756.000000   \n",
       "max                     77745.000000                  77745.000000   \n",
       "\n",
       "       subjectivity_text  text_sentiment  text_reading_ease  \\\n",
       "count       14583.000000    14583.000000       14583.000000   \n",
       "mean            0.376956       -0.024121        -243.967627   \n",
       "std             0.135305        0.826701         355.208558   \n",
       "min             0.000000       -1.000000      -12021.920000   \n",
       "25%             0.305300       -0.932500        -322.350000   \n",
       "50%             0.380158        0.000000        -168.070000   \n",
       "75%             0.451445        0.900100         -69.620000   \n",
       "max             1.000000        1.000000         121.220000   \n",
       "\n",
       "       text_lexical_diversity  \n",
       "count            14583.000000  \n",
       "mean                 0.669949  \n",
       "std                  0.098977  \n",
       "min                  0.191181  \n",
       "25%                  0.608519  \n",
       "50%                  0.664865  \n",
       "75%                  0.722222  \n",
       "max                  1.000000  "
      ]
     },
     "execution_count": 5,
     "metadata": {},
     "output_type": "execute_result"
    }
   ],
   "source": [
    "\n",
    "df_new_features.iloc[:, :-1000].describe()"
   ]
  },
  {
   "cell_type": "code",
   "execution_count": null,
   "id": "70e5b23f-5f52-4132-9ddc-39d930489668",
   "metadata": {},
   "outputs": [],
   "source": []
  },
  {
   "cell_type": "code",
   "execution_count": 6,
   "id": "f02b7356-db52-4908-978a-a304f46c0481",
   "metadata": {
    "tags": []
   },
   "outputs": [
    {
     "data": {
      "text/plain": [
       "(14583, 1013)"
      ]
     },
     "execution_count": 6,
     "metadata": {},
     "output_type": "execute_result"
    }
   ],
   "source": [
    "df_new_features.shape"
   ]
  },
  {
   "cell_type": "code",
   "execution_count": 7,
   "id": "5ec504f6-1456-4d8a-b0b4-2ab7d33e83c6",
   "metadata": {
    "tags": []
   },
   "outputs": [
    {
     "data": {
      "text/plain": [
       "(14583, 1013)"
      ]
     },
     "execution_count": 7,
     "metadata": {},
     "output_type": "execute_result"
    }
   ],
   "source": [
    "\n",
    "df_drop=df_new_features\n",
    "df_drop.shape"
   ]
  },
  {
   "cell_type": "raw",
   "id": "09c71ec4-462a-4f35-a965-a2fc74b4fe0a",
   "metadata": {
    "tags": []
   },
   "source": [
    "columns_to_exclude = ['text', 'label', 'id', 'text_processed']\n",
    "\n",
    "# Iterate over columns except those to be excluded\n",
    "for column in df_drop.iloc[:, :-1000].columns:\n",
    "    if column not in columns_to_exclude:\n",
    "        # Calculate quartiles\n",
    "        q1 = df_drop[column].quantile(0.25)\n",
    "        q3 = df_drop[column].quantile(0.75)\n",
    "        iqr = q3 - q1\n",
    "\n",
    "        # Define limits for outliers\n",
    "        lower_limit = q1 - 3 * iqr\n",
    "        upper_limit = q3 + 3 * iqr\n",
    "\n",
    "        # Filter outliers and create a new DataFrame without outliers\n",
    "        df_drop = df_drop[(df_drop[column] >= lower_limit) & (df_drop[column] <= upper_limit)]"
   ]
  },
  {
   "cell_type": "code",
   "execution_count": 8,
   "id": "a95f0bf2-4047-42a6-8222-692757e501d9",
   "metadata": {
    "tags": []
   },
   "outputs": [
    {
     "data": {
      "text/plain": [
       "(14583, 1013)"
      ]
     },
     "execution_count": 8,
     "metadata": {},
     "output_type": "execute_result"
    }
   ],
   "source": [
    "df_drop.shape"
   ]
  },
  {
   "cell_type": "code",
   "execution_count": 9,
   "id": "90596513-68fc-4a85-9464-3428a505aa71",
   "metadata": {
    "tags": []
   },
   "outputs": [],
   "source": [
    "df_new_features=df_drop"
   ]
  },
  {
   "cell_type": "code",
   "execution_count": 10,
   "id": "e260e0cd-ae9b-4d8f-b667-e18eb42ab3e7",
   "metadata": {
    "tags": []
   },
   "outputs": [
    {
     "data": {
      "text/plain": [
       "(14583, 1013)"
      ]
     },
     "execution_count": 10,
     "metadata": {},
     "output_type": "execute_result"
    }
   ],
   "source": [
    "df_new_features.shape"
   ]
  },
  {
   "cell_type": "code",
   "execution_count": 11,
   "id": "fe5904c7-feb1-4969-99c8-3e21a7a93ff1",
   "metadata": {
    "tags": []
   },
   "outputs": [
    {
     "name": "stdout",
     "output_type": "stream",
     "text": [
      "<class 'pandas.core.frame.DataFrame'>\n",
      "Index: 14583 entries, 11525 to 7270\n",
      "Data columns (total 13 columns):\n",
      " #   Column                         Non-Null Count  Dtype  \n",
      "---  ------                         --------------  -----  \n",
      " 0   text                           14583 non-null  object \n",
      " 1   label                          14583 non-null  int64  \n",
      " 2   word_count                     14583 non-null  int32  \n",
      " 3   avg_sentence_length            14583 non-null  float64\n",
      " 4   text_punctuation_frequency     14583 non-null  int64  \n",
      " 5   text_capitalization_frequency  14583 non-null  int32  \n",
      " 6   text_before_character_removal  14583 non-null  int64  \n",
      " 7   text_after_character_removal   14583 non-null  int64  \n",
      " 8   text_processed                 14583 non-null  object \n",
      " 9   subjectivity_text              14583 non-null  float64\n",
      " 10  text_sentiment                 14583 non-null  float64\n",
      " 11  text_reading_ease              14583 non-null  float64\n",
      " 12  text_lexical_diversity         14583 non-null  float64\n",
      "dtypes: float64(5), int32(2), int64(4), object(2)\n",
      "memory usage: 1.4+ MB\n"
     ]
    }
   ],
   "source": [
    "df_new_features.to_parquet(r\"C:\\Users\\brand\\UNISA_Honour_Fake_News_Program\\Dataset_Merged_BackUp\\ForModeling_test.parquet\")\n",
    "df_new_features_2=df_new_features.iloc[:, :-1000]\n",
    "df_new_features_2.to_csv(r\"C:\\Users\\brand\\UNISA_Honour_Fake_News_Program\\Dataset_Merged_BackUp\\Tableau_test.csv\")\n",
    "\n",
    "df_new_features_2.info()"
   ]
  }
 ],
 "metadata": {
  "kernelspec": {
   "display_name": "Python 3 (ipykernel)",
   "language": "python",
   "name": "python3"
  },
  "language_info": {
   "codemirror_mode": {
    "name": "ipython",
    "version": 3
   },
   "file_extension": ".py",
   "mimetype": "text/x-python",
   "name": "python",
   "nbconvert_exporter": "python",
   "pygments_lexer": "ipython3",
   "version": "3.9.18"
  }
 },
 "nbformat": 4,
 "nbformat_minor": 5
}
