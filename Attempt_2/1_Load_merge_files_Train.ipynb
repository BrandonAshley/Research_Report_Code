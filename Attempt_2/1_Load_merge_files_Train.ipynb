{
 "cells": [
  {
   "cell_type": "code",
   "execution_count": 1,
   "id": "ea67b409-b625-4ffb-afde-624b84b18988",
   "metadata": {},
   "outputs": [],
   "source": [
    "#1   ALL clean data is merged into a dataframe known as the training dataset"
   ]
  },
  {
   "cell_type": "code",
   "execution_count": 2,
   "id": "4314c1d7-7f6a-4bc4-8722-b3f30dfdc5b6",
   "metadata": {
    "tags": []
   },
   "outputs": [],
   "source": [
    "import numpy as np\n",
    "import pandas as pd"
   ]
  },
  {
   "cell_type": "code",
   "execution_count": 3,
   "id": "c789ee04-d4db-43f2-8d1a-b13cc3665462",
   "metadata": {
    "tags": []
   },
   "outputs": [
    {
     "name": "stdout",
     "output_type": "stream",
     "text": [
      "(72134, 4)\n",
      "<class 'pandas.core.frame.DataFrame'>\n",
      "RangeIndex: 72134 entries, 0 to 72133\n",
      "Data columns (total 4 columns):\n",
      " #   Column      Non-Null Count  Dtype \n",
      "---  ------      --------------  ----- \n",
      " 0   Unnamed: 0  72134 non-null  int64 \n",
      " 1   title       71576 non-null  object\n",
      " 2   text        72095 non-null  object\n",
      " 3   label       72134 non-null  int64 \n",
      "dtypes: int64(2), object(2)\n",
      "memory usage: 2.2+ MB\n",
      "None\n",
      "         Unnamed: 0         label\n",
      "count  72134.000000  72134.000000\n",
      "mean   36066.500000      0.514404\n",
      "std    20823.436496      0.499796\n",
      "min        0.000000      0.000000\n",
      "25%    18033.250000      0.000000\n",
      "50%    36066.500000      1.000000\n",
      "75%    54099.750000      1.000000\n",
      "max    72133.000000      1.000000\n",
      "Index(['Unnamed: 0', 'title', 'text', 'label'], dtype='object')\n",
      "_______________________________________________________________\n",
      "(61393, 4)\n",
      "<class 'pandas.core.frame.DataFrame'>\n",
      "Index: 61393 entries, 0 to 72132\n",
      "Data columns (total 4 columns):\n",
      " #   Column      Non-Null Count  Dtype \n",
      "---  ------      --------------  ----- \n",
      " 0   Unnamed: 0  61393 non-null  int64 \n",
      " 1   title       61393 non-null  object\n",
      " 2   text        61393 non-null  object\n",
      " 3   label       61393 non-null  int64 \n",
      "dtypes: int64(2), object(2)\n",
      "memory usage: 2.3+ MB\n",
      "None\n",
      "         Unnamed: 0         label\n",
      "count  61393.000000  61393.000000\n",
      "mean   34332.101933      0.442331\n",
      "std    20789.958147      0.496667\n",
      "min        0.000000      0.000000\n",
      "25%    16150.000000      0.000000\n",
      "50%    33483.000000      0.000000\n",
      "75%    52054.000000      1.000000\n",
      "max    72132.000000      1.000000\n",
      "Index(['Unnamed: 0', 'title', 'text', 'label'], dtype='object')\n"
     ]
    }
   ],
   "source": [
    "df_wellfake=pd.read_csv(r\"C:\\Users\\brand\\UNISA_Honour_Fake_News_Program\\dataset\\WELFake_Dataset.csv\")\n",
    "print(df_wellfake.shape)\n",
    "print(df_wellfake.info())\n",
    "print(df_wellfake.describe())\n",
    "print(df_wellfake.columns)\n",
    "\n",
    "\n",
    "df_wellfake=df_wellfake.drop_duplicates(subset=[\"title\"])\n",
    "\n",
    "dups=df_wellfake[df_wellfake.duplicated(subset=['text'])]\n",
    "\n",
    "df_wellfake=df_wellfake.drop(dups.index)\n",
    "\n",
    "df_wellfake.dropna(axis=0,inplace=True)\n",
    "\n",
    "print('_______________________________________________________________')\n",
    "print(df_wellfake.shape)\n",
    "print(df_wellfake.info())\n",
    "print(df_wellfake.describe())\n",
    "print(df_wellfake.columns)\n",
    "\n",
    "df_wellfake.to_parquet(r\"C:\\Users\\brand\\UNISA_Honour_Fake_News_Program\\Datasets_Loaded\\Well_data.parquet\")"
   ]
  },
  {
   "cell_type": "code",
   "execution_count": 4,
   "id": "b3c3c1fa-dc4f-4e7a-8fa7-5cac1ef1345b",
   "metadata": {
    "tags": []
   },
   "outputs": [
    {
     "data": {
      "text/plain": [
       "0"
      ]
     },
     "execution_count": 4,
     "metadata": {},
     "output_type": "execute_result"
    }
   ],
   "source": [
    "df_wellfake.duplicated(subset=['text', 'title']).sum()"
   ]
  },
  {
   "cell_type": "code",
   "execution_count": 5,
   "id": "4d4f8f7e-439f-4a49-81ba-7214e97edaad",
   "metadata": {
    "tags": []
   },
   "outputs": [
    {
     "name": "stdout",
     "output_type": "stream",
     "text": [
      "Unnamed: 0     0\n",
      "Title          0\n",
      "Content        0\n",
      "Label         75\n",
      "ID             0\n",
      "dtype: int64\n",
      "(326, 5)\n",
      "<class 'pandas.core.frame.DataFrame'>\n",
      "RangeIndex: 326 entries, 0 to 325\n",
      "Data columns (total 5 columns):\n",
      " #   Column      Non-Null Count  Dtype  \n",
      "---  ------      --------------  -----  \n",
      " 0   Unnamed: 0  326 non-null    int64  \n",
      " 1   Title       326 non-null    object \n",
      " 2   Content     326 non-null    object \n",
      " 3   Label       326 non-null    float64\n",
      " 4   ID          326 non-null    int64  \n",
      "dtypes: float64(1), int64(2), object(2)\n",
      "memory usage: 12.9+ KB\n",
      "None\n",
      "       Unnamed: 0       Label          ID\n",
      "count  326.000000  326.000000  326.000000\n",
      "mean   162.500000    0.392638  163.500000\n",
      "std     94.252321    0.489088   94.252321\n",
      "min      0.000000    0.000000    1.000000\n",
      "25%     81.250000    0.000000   82.250000\n",
      "50%    162.500000    0.000000  163.500000\n",
      "75%    243.750000    1.000000  244.750000\n",
      "max    325.000000    1.000000  326.000000\n",
      "Index(['Unnamed: 0', 'Title', 'Content', 'Label', 'ID'], dtype='object')\n"
     ]
    }
   ],
   "source": [
    "df_horn=pd.read_csv(r\"C:\\Users\\brand\\UNISA_Honour_Fake_News_Program\\dataset\\Horn_data.csv\")\n",
    "print(df_horn.isna().sum())\n",
    "df_horn=df_horn.fillna(0)\n",
    "print(df_horn.shape)\n",
    "print(df_horn.info())\n",
    "print(df_horn.describe())\n",
    "print(df_horn.columns)\n",
    "df_horn.to_parquet(r\"C:\\Users\\brand\\UNISA_Honour_Fake_News_Program\\Datasets_Loaded\\Horn_data.parquet\")"
   ]
  },
  {
   "cell_type": "code",
   "execution_count": 6,
   "id": "45eb7e0e-5592-4877-a417-70f2cf515f4f",
   "metadata": {
    "tags": []
   },
   "outputs": [],
   "source": [
    "ukt=pd.read_parquet(r\"C:\\Users\\brand\\UNISA_Honour_Fake_News_Program\\New_Datasets_For_Final\\945z9xkc8d-1\\Fake News Dataset\\Fake News Dataset\\ukt_train.parquet\")\n",
    "ISOT=pd.read_parquet(r\"C:\\Users\\brand\\UNISA_Honour_Fake_News_Program\\New_Datasets_For_Final\\945z9xkc8d-1\\Fake News Dataset\\Fake News Dataset\\ISOT_train.parquet\")\n",
    "jru=pd.read_parquet(r\"C:\\Users\\brand\\UNISA_Honour_Fake_News_Program\\New_Datasets_For_Final\\945z9xkc8d-1\\Fake News Dataset\\Fake News Dataset\\jru_train.parquet\")\n",
    "mc=pd.read_parquet(r\"C:\\Users\\brand\\UNISA_Honour_Fake_News_Program\\New_Datasets_For_Final\\945z9xkc8d-1\\Fake News Dataset\\Fake News Dataset\\mc_train.parquet\")\n",
    "td=pd.read_parquet(r\"C:\\Users\\brand\\UNISA_Honour_Fake_News_Program\\New_Datasets_For_Final\\945z9xkc8d-1\\Fake News Dataset\\Fake News Dataset\\twitter_data.parquet\")\n"
   ]
  },
  {
   "cell_type": "code",
   "execution_count": 7,
   "id": "4c8e8dca-c101-4afc-889a-c8aa296ba7b1",
   "metadata": {
    "tags": []
   },
   "outputs": [
    {
     "name": "stdout",
     "output_type": "stream",
     "text": [
      "<class 'pandas.core.frame.DataFrame'>\n",
      "RangeIndex: 7613 entries, 0 to 7612\n",
      "Data columns (total 3 columns):\n",
      " #   Column  Non-Null Count  Dtype \n",
      "---  ------  --------------  ----- \n",
      " 0   id      7613 non-null   int64 \n",
      " 1   text    7613 non-null   object\n",
      " 2   label   7613 non-null   int64 \n",
      "dtypes: int64(2), object(1)\n",
      "memory usage: 178.6+ KB\n"
     ]
    }
   ],
   "source": [
    "td=td.rename(columns={'target':'label'})\n",
    "td.info()"
   ]
  },
  {
   "cell_type": "code",
   "execution_count": null,
   "id": "c39181fc-8efe-4ce0-aeae-a00fc2324098",
   "metadata": {},
   "outputs": [],
   "source": []
  },
  {
   "cell_type": "code",
   "execution_count": 8,
   "id": "373a9a26-060c-4243-ba5a-e14ac6a7c75d",
   "metadata": {
    "tags": []
   },
   "outputs": [
    {
     "name": "stdout",
     "output_type": "stream",
     "text": [
      "(126483, 3)\n",
      "Index(['text', 'label', 'id'], dtype='object')\n",
      "<class 'pandas.core.frame.DataFrame'>\n",
      "RangeIndex: 126483 entries, 0 to 126482\n",
      "Data columns (total 3 columns):\n",
      " #   Column  Non-Null Count   Dtype  \n",
      "---  ------  --------------   -----  \n",
      " 0   text    126483 non-null  object \n",
      " 1   label   126483 non-null  float64\n",
      " 2   id      7613 non-null    float64\n",
      "dtypes: float64(2), object(1)\n",
      "memory usage: 2.9+ MB\n",
      "None\n",
      "               label            id\n",
      "count  126483.000000   7613.000000\n",
      "mean        0.480934   5441.934848\n",
      "std         0.499638   3137.116090\n",
      "min         0.000000      1.000000\n",
      "25%         0.000000   2734.000000\n",
      "50%         0.000000   5408.000000\n",
      "75%         1.000000   8146.000000\n",
      "max         1.000000  10873.000000\n"
     ]
    }
   ],
   "source": [
    "df_horn_subset = df_horn[[ 'Title', 'Content','Label']].rename(columns={'Title':'title','Content':'text','Label':'label',})\n",
    "\n",
    "\n",
    "df_wellfake_subset = df_wellfake[[ 'title', 'text', 'label']]\n",
    "\n",
    "\n",
    "df = pd.concat([ df_horn_subset, df_wellfake_subset,ukt,ISOT,jru,mc,td], ignore_index=True)\n",
    "df.drop(columns=['title'],inplace=True)\n",
    "\n",
    "df=df.reset_index(drop=True)\n",
    "\n",
    "\n",
    "\n",
    "\n",
    "print(df.shape)\n",
    "print(df.columns)\n",
    "print(df.info())\n",
    "print(df.describe())\n",
    "\n"
   ]
  },
  {
   "cell_type": "code",
   "execution_count": 9,
   "id": "bd05ceb7-8f42-43d7-b995-5bca9f2cc600",
   "metadata": {
    "tags": []
   },
   "outputs": [
    {
     "data": {
      "text/html": [
       "<div>\n",
       "<style scoped>\n",
       "    .dataframe tbody tr th:only-of-type {\n",
       "        vertical-align: middle;\n",
       "    }\n",
       "\n",
       "    .dataframe tbody tr th {\n",
       "        vertical-align: top;\n",
       "    }\n",
       "\n",
       "    .dataframe thead th {\n",
       "        text-align: right;\n",
       "    }\n",
       "</style>\n",
       "<table border=\"1\" class=\"dataframe\">\n",
       "  <thead>\n",
       "    <tr style=\"text-align: right;\">\n",
       "      <th></th>\n",
       "      <th>text</th>\n",
       "      <th>label</th>\n",
       "      <th>id</th>\n",
       "    </tr>\n",
       "  </thead>\n",
       "  <tbody>\n",
       "  </tbody>\n",
       "</table>\n",
       "</div>"
      ],
      "text/plain": [
       "Empty DataFrame\n",
       "Columns: [text, label, id]\n",
       "Index: []"
      ]
     },
     "execution_count": 9,
     "metadata": {},
     "output_type": "execute_result"
    }
   ],
   "source": [
    "df.drop_duplicates(subset=['text'],keep='first',inplace=True)\n",
    "df[df.duplicated(subset=['text'])]"
   ]
  },
  {
   "cell_type": "code",
   "execution_count": 10,
   "id": "e403aef7-12fe-4154-ac79-d83dad2e263f",
   "metadata": {
    "tags": []
   },
   "outputs": [],
   "source": [
    "#Merge datasets\n",
    "df.to_parquet(r\"C:\\Users\\brand\\UNISA_Honour_Fake_News_Program\\Dataset_Merged_BackUp\\Data_merged.parquet\")"
   ]
  },
  {
   "cell_type": "code",
   "execution_count": 12,
   "id": "ea2a9966-787c-43b1-ba7c-924851074f10",
   "metadata": {},
   "outputs": [
    {
     "data": {
      "text/plain": [
       "(124754, 3)"
      ]
     },
     "execution_count": 12,
     "metadata": {},
     "output_type": "execute_result"
    }
   ],
   "source": [
    "df.shape"
   ]
  },
  {
   "cell_type": "code",
   "execution_count": null,
   "id": "74ec4ed0-282e-4037-8a6b-c5f5915595b1",
   "metadata": {},
   "outputs": [],
   "source": []
  }
 ],
 "metadata": {
  "kernelspec": {
   "display_name": "Python 3 (ipykernel)",
   "language": "python",
   "name": "python3"
  },
  "language_info": {
   "codemirror_mode": {
    "name": "ipython",
    "version": 3
   },
   "file_extension": ".py",
   "mimetype": "text/x-python",
   "name": "python",
   "nbconvert_exporter": "python",
   "pygments_lexer": "ipython3",
   "version": "3.9.18"
  }
 },
 "nbformat": 4,
 "nbformat_minor": 5
}
